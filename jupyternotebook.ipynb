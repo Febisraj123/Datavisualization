{
 "cells": [
  {
   "cell_type": "code",
   "execution_count": 1,
   "id": "baca5f37",
   "metadata": {},
   "outputs": [],
   "source": [
    "import pandas as pd"
   ]
  },
  {
   "cell_type": "code",
   "execution_count": 2,
   "id": "34602fdd",
   "metadata": {},
   "outputs": [
    {
     "name": "stdout",
     "output_type": "stream",
     "text": [
      "                               Area      Years  Subscribers\n",
      "0          United States and Canada  Q1 - 2018     60909000\n",
      "1   Europe,  Middle East and Africa  Q1 - 2018     29339000\n",
      "2                     Latin America  Q1 - 2018     21260000\n",
      "3                      Asia-Pacific  Q1 - 2018      7394000\n",
      "4          United States and Canada  Q2 - 2018     61870000\n",
      "5   Europe,  Middle East and Africa  Q2 - 2018     31317000\n",
      "6                     Latin America  Q2 - 2018     22795000\n",
      "7                      Asia-Pacific  Q2 - 2018      8372000\n",
      "8          United States and Canada  Q3 - 2018     63010000\n",
      "9   Europe,  Middle East and Africa  Q3 - 2018     33836000\n",
      "10                    Latin America  Q3 - 2018     24115000\n",
      "11                     Asia-Pacific  Q3 - 2018      9461000\n",
      "12         United States and Canada  Q4 - 2018     64757000\n",
      "13  Europe,  Middle East and Africa  Q4 - 2018     37818000\n",
      "14                    Latin America  Q4 - 2018     26077000\n",
      "15                     Asia-Pacific  Q4 - 2018     10607000\n",
      "16         United States and Canada  Q1 - 2019     66633000\n",
      "17  Europe,  Middle East and Africa  Q1 - 2019     42542000\n",
      "18                    Latin America  Q1 - 2019     27547000\n",
      "19                     Asia-Pacific  Q1 - 2019     12141000\n",
      "20         United States and Canada  Q2 - 2019     66501000\n",
      "21  Europe,  Middle East and Africa  Q2 - 2019     44229000\n",
      "22                    Latin America  Q2 - 2019     27890000\n",
      "23                     Asia-Pacific  Q2 - 2019     12942000\n",
      "24         United States and Canada  Q3 - 2019     67114000\n",
      "25  Europe,  Middle East and Africa  Q3 - 2019     47355000\n",
      "26                    Latin America  Q3 - 2019     29380000\n",
      "27                     Asia-Pacific  Q3 - 2019     14485000\n",
      "28         United States and Canada  Q4 - 2019     67662000\n",
      "29  Europe,  Middle East and Africa  Q4 - 2019     51778000\n",
      "30                    Latin America  Q4 - 2019     31417000\n",
      "31                     Asia-Pacific  Q4 - 2019     16233000\n",
      "32         United States and Canada  Q1 - 2020     69969000\n",
      "33  Europe,  Middle East and Africa  Q1 - 2020     58734000\n",
      "34                    Latin America  Q1 - 2020     34318000\n",
      "35                     Asia-Pacific  Q1 - 2020     19835000\n",
      "36         United States and Canada  Q2 - 2020     72904000\n",
      "37  Europe,  Middle East and Africa  Q2 - 2020     61483000\n",
      "38                    Latin America  Q2 - 2020     36068000\n",
      "39                     Asia-Pacific  Q2 - 2020     22492000\n"
     ]
    }
   ],
   "source": [
    "df = pd.read_csv('data.csv')\n",
    "\n",
    "print(df) "
   ]
  },
  {
   "cell_type": "code",
   "execution_count": 3,
   "id": "8eadb7c6",
   "metadata": {},
   "outputs": [
    {
     "data": {
      "text/plain": [
       "<AxesSubplot:xlabel='Years', ylabel='Subscribers'>"
      ]
     },
     "execution_count": 3,
     "metadata": {},
     "output_type": "execute_result"
    },
    {
     "data": {
      "image/png": "[encoded data removed]",
      "text/plain": [
       "<Figure size 432x288 with 1 Axes>"
      ]
     },
     "metadata": {
      "needs_background": "light"
     },
     "output_type": "display_data"
    }
   ],
   "source": [
    "%matplotlib inline\n",
    "df.plot.scatter(x='Years', y='Subscribers')"
   ]
  },
  {
   "cell_type": "code",
   "execution_count": null,
   "id": "896394a4",
   "metadata": {},
   "outputs": [],
   "source": []
  }
 ],
 "metadata": {
  "kernelspec": {
   "display_name": "Python 3 (ipykernel)",
   "language": "python",
   "name": "python3"
  },
  "language_info": {
   "codemirror_mode": {
    "name": "ipython",
    "version": 3
   },
   "file_extension": ".py",
   "mimetype": "text/x-python",
   "name": "python",
   "nbconvert_exporter": "python",
   "pygments_lexer": "ipython3",
   "version": "3.8.5"
  }
 },
 "nbformat": 4,
 "nbformat_minor": 5
}
